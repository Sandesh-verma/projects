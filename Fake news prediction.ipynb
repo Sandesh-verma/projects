{
 "cells": [
  {
   "cell_type": "code",
   "execution_count": 2,
   "metadata": {
    "colab": {
     "base_uri": "https://localhost:8080/"
    },
    "executionInfo": {
     "elapsed": 3481,
     "status": "ok",
     "timestamp": 1641650163117,
     "user": {
      "displayName": "Sandesh Verma",
      "photoUrl": "https://lh3.googleusercontent.com/a/default-user=s64",
      "userId": "00363300747975141974"
     },
     "user_tz": -330
    },
    "id": "NR_CiCgJ93k3",
    "outputId": "88b8fd68-f0fb-4b45-92b5-e48e04201a95"
   },
   "outputs": [
    {
     "name": "stdout",
     "output_type": "stream",
     "text": [
      "Requirement already satisfied: kaggle in /usr/local/lib/python3.7/dist-packages (1.5.12)\n",
      "Requirement already satisfied: urllib3 in /usr/local/lib/python3.7/dist-packages (from kaggle) (1.24.3)\n",
      "Requirement already satisfied: tqdm in /usr/local/lib/python3.7/dist-packages (from kaggle) (4.62.3)\n",
      "Requirement already satisfied: python-dateutil in /usr/local/lib/python3.7/dist-packages (from kaggle) (2.8.2)\n",
      "Requirement already satisfied: requests in /usr/local/lib/python3.7/dist-packages (from kaggle) (2.23.0)\n",
      "Requirement already satisfied: certifi in /usr/local/lib/python3.7/dist-packages (from kaggle) (2021.10.8)\n",
      "Requirement already satisfied: python-slugify in /usr/local/lib/python3.7/dist-packages (from kaggle) (5.0.2)\n",
      "Requirement already satisfied: six>=1.10 in /usr/local/lib/python3.7/dist-packages (from kaggle) (1.15.0)\n",
      "Requirement already satisfied: text-unidecode>=1.3 in /usr/local/lib/python3.7/dist-packages (from python-slugify->kaggle) (1.3)\n",
      "Requirement already satisfied: chardet<4,>=3.0.2 in /usr/local/lib/python3.7/dist-packages (from requests->kaggle) (3.0.4)\n",
      "Requirement already satisfied: idna<3,>=2.5 in /usr/local/lib/python3.7/dist-packages (from requests->kaggle) (2.10)\n"
     ]
    }
   ],
   "source": [
    "! pip install kaggle"
   ]
  },
  {
   "cell_type": "code",
   "execution_count": 3,
   "metadata": {
    "executionInfo": {
     "elapsed": 7,
     "status": "ok",
     "timestamp": 1641650570347,
     "user": {
      "displayName": "Sandesh Verma",
      "photoUrl": "https://lh3.googleusercontent.com/a/default-user=s64",
      "userId": "00363300747975141974"
     },
     "user_tz": -330
    },
    "id": "IXDqlXnp-RRw"
   },
   "outputs": [],
   "source": [
    "! mkdir -p ~/.kaggle\n",
    "! cp kaggle.json ~/.kaggle/\n",
    "! chmod 600 ~/.kaggle/kaggle.json"
   ]
  },
  {
   "cell_type": "code",
   "execution_count": 6,
   "metadata": {
    "colab": {
     "base_uri": "https://localhost:8080/"
    },
    "executionInfo": {
     "elapsed": 7174,
     "status": "ok",
     "timestamp": 1641651032909,
     "user": {
      "displayName": "Sandesh Verma",
      "photoUrl": "https://lh3.googleusercontent.com/a/default-user=s64",
      "userId": "00363300747975141974"
     },
     "user_tz": -330
    },
    "id": "pemLYSNB_79o",
    "outputId": "9fb92f97-9a9f-4d59-d005-b8ddc121d14c"
   },
   "outputs": [
    {
     "name": "stdout",
     "output_type": "stream",
     "text": [
      "Warning: Looks like you're using an outdated API Version, please consider updating (server 1.5.12 / client 1.5.4)\n",
      "Downloading test.csv.zip to /content\n",
      " 53% 5.00M/9.42M [00:00<00:00, 6.20MB/s]\n",
      "100% 9.42M/9.42M [00:00<00:00, 10.8MB/s]\n",
      "Downloading submit.csv to /content\n",
      "  0% 0.00/40.6k [00:00<?, ?B/s]\n",
      "100% 40.6k/40.6k [00:00<00:00, 42.2MB/s]\n",
      "Downloading train.csv.zip to /content\n",
      " 89% 33.0M/37.0M [00:01<00:00, 22.6MB/s]\n",
      "100% 37.0M/37.0M [00:01<00:00, 36.4MB/s]\n"
     ]
    }
   ],
   "source": [
    "! kaggle competitions download -c fake-news"
   ]
  },
  {
   "cell_type": "code",
   "execution_count": 7,
   "metadata": {
    "colab": {
     "base_uri": "https://localhost:8080/"
    },
    "executionInfo": {
     "elapsed": 1596,
     "status": "ok",
     "timestamp": 1641651456482,
     "user": {
      "displayName": "Sandesh Verma",
      "photoUrl": "https://lh3.googleusercontent.com/a/default-user=s64",
      "userId": "00363300747975141974"
     },
     "user_tz": -330
    },
    "id": "e6TyeTZIAPj4",
    "outputId": "199c01d4-071e-4a6f-81a8-9b2609c2babd"
   },
   "outputs": [
    {
     "name": "stdout",
     "output_type": "stream",
     "text": [
      "extraction done\n"
     ]
    }
   ],
   "source": [
    "from zipfile import ZipFile\n",
    "df='/content/train.csv.zip'\n",
    "with ZipFile (df,'r') as zip:\n",
    "  zip.extractall()\n",
    "  print('extraction done') "
   ]
  },
  {
   "cell_type": "markdown",
   "metadata": {
    "id": "QWiKKUhzF8Rz"
   },
   "source": [
    "Data Attributes:-\n",
    "\n",
    "id: unique id for a news article\n",
    "\n",
    "title: the title of a news article\n",
    "\n",
    "author: author of the news article\n",
    "\n",
    "text: the text of the article; could be incomplete\n",
    "\n",
    "label: a label that marks the article as potentially unreliable\n",
    "\n",
    "1: unreliable\n",
    "\n",
    "0: reliable"
   ]
  },
  {
   "cell_type": "markdown",
   "metadata": {
    "id": "KIk3yf8jDiRI"
   },
   "source": [
    "Import Dependencies\n"
   ]
  },
  {
   "cell_type": "code",
   "execution_count": 9,
   "metadata": {
    "executionInfo": {
     "elapsed": 821,
     "status": "ok",
     "timestamp": 1641652063873,
     "user": {
      "displayName": "Sandesh Verma",
      "photoUrl": "https://lh3.googleusercontent.com/a/default-user=s64",
      "userId": "00363300747975141974"
     },
     "user_tz": -330
    },
    "id": "Yc2qVPvQDUBM"
   },
   "outputs": [],
   "source": [
    "import numpy as np\n",
    "import pandas as pd\n",
    "import re   # Regular expression operations - matching strings of different types #finding patterns in the text \n",
    "import nltk\n",
    "from nltk.corpus import stopwords\n",
    "from nltk.stem.porter import PorterStemmer\n",
    "from sklearn.feature_extraction.text import TfidfVectorizer\n",
    "from sklearn.model_selection import train_test_split\n",
    "from sklearn.linear_model import LogisticRegression\n",
    "from sklearn.metrics import accuracy_score"
   ]
  },
  {
   "cell_type": "code",
   "execution_count": 10,
   "metadata": {
    "colab": {
     "base_uri": "https://localhost:8080/"
    },
    "executionInfo": {
     "elapsed": 578,
     "status": "ok",
     "timestamp": 1641652387063,
     "user": {
      "displayName": "Sandesh Verma",
      "photoUrl": "https://lh3.googleusercontent.com/a/default-user=s64",
      "userId": "00363300747975141974"
     },
     "user_tz": -330
    },
    "id": "GtQsbSBeFl7E",
    "outputId": "56e3c5ac-9153-421f-cf1c-57e5a237bad3"
   },
   "outputs": [
    {
     "name": "stdout",
     "output_type": "stream",
     "text": [
      "[nltk_data] Downloading package stopwords to /root/nltk_data...\n",
      "[nltk_data]   Unzipping corpora/stopwords.zip.\n"
     ]
    },
    {
     "data": {
      "text/plain": [
       "True"
      ]
     },
     "execution_count": 10,
     "metadata": {},
     "output_type": "execute_result"
    }
   ],
   "source": [
    "nltk.download('stopwords')"
   ]
  },
  {
   "cell_type": "markdown",
   "metadata": {
    "id": "ZYnPJvtTHQPC"
   },
   "source": [
    "**Knowing Stopwords:**"
   ]
  },
  {
   "cell_type": "code",
   "execution_count": 12,
   "metadata": {
    "colab": {
     "base_uri": "https://localhost:8080/"
    },
    "executionInfo": {
     "elapsed": 692,
     "status": "ok",
     "timestamp": 1641652432923,
     "user": {
      "displayName": "Sandesh Verma",
      "photoUrl": "https://lh3.googleusercontent.com/a/default-user=s64",
      "userId": "00363300747975141974"
     },
     "user_tz": -330
    },
    "id": "YEQLxxmTG3dc",
    "outputId": "cf5dee31-79da-4740-f5a8-265e9b53bacf"
   },
   "outputs": [
    {
     "name": "stdout",
     "output_type": "stream",
     "text": [
      "['i', 'me', 'my', 'myself', 'we', 'our', 'ours', 'ourselves', 'you', \"you're\", \"you've\", \"you'll\", \"you'd\", 'your', 'yours', 'yourself', 'yourselves', 'he', 'him', 'his', 'himself', 'she', \"she's\", 'her', 'hers', 'herself', 'it', \"it's\", 'its', 'itself', 'they', 'them', 'their', 'theirs', 'themselves', 'what', 'which', 'who', 'whom', 'this', 'that', \"that'll\", 'these', 'those', 'am', 'is', 'are', 'was', 'were', 'be', 'been', 'being', 'have', 'has', 'had', 'having', 'do', 'does', 'did', 'doing', 'a', 'an', 'the', 'and', 'but', 'if', 'or', 'because', 'as', 'until', 'while', 'of', 'at', 'by', 'for', 'with', 'about', 'against', 'between', 'into', 'through', 'during', 'before', 'after', 'above', 'below', 'to', 'from', 'up', 'down', 'in', 'out', 'on', 'off', 'over', 'under', 'again', 'further', 'then', 'once', 'here', 'there', 'when', 'where', 'why', 'how', 'all', 'any', 'both', 'each', 'few', 'more', 'most', 'other', 'some', 'such', 'no', 'nor', 'not', 'only', 'own', 'same', 'so', 'than', 'too', 'very', 's', 't', 'can', 'will', 'just', 'don', \"don't\", 'should', \"should've\", 'now', 'd', 'll', 'm', 'o', 're', 've', 'y', 'ain', 'aren', \"aren't\", 'couldn', \"couldn't\", 'didn', \"didn't\", 'doesn', \"doesn't\", 'hadn', \"hadn't\", 'hasn', \"hasn't\", 'haven', \"haven't\", 'isn', \"isn't\", 'ma', 'mightn', \"mightn't\", 'mustn', \"mustn't\", 'needn', \"needn't\", 'shan', \"shan't\", 'shouldn', \"shouldn't\", 'wasn', \"wasn't\", 'weren', \"weren't\", 'won', \"won't\", 'wouldn', \"wouldn't\"]\n"
     ]
    }
   ],
   "source": [
    "print(stopwords.words(\"english\"))"
   ]
  },
  {
   "cell_type": "markdown",
   "metadata": {
    "id": "VADH-NWNIbGI"
   },
   "source": [
    "Loading dataset"
   ]
  },
  {
   "cell_type": "code",
   "execution_count": 15,
   "metadata": {
    "executionInfo": {
     "elapsed": 1790,
     "status": "ok",
     "timestamp": 1641653089931,
     "user": {
      "displayName": "Sandesh Verma",
      "photoUrl": "https://lh3.googleusercontent.com/a/default-user=s64",
      "userId": "00363300747975141974"
     },
     "user_tz": -330
    },
    "id": "O9T6Uf-KIgpi"
   },
   "outputs": [],
   "source": [
    "df=pd.read_csv('/content/train.csv')"
   ]
  },
  {
   "cell_type": "code",
   "execution_count": 16,
   "metadata": {
    "colab": {
     "base_uri": "https://localhost:8080/"
    },
    "executionInfo": {
     "elapsed": 560,
     "status": "ok",
     "timestamp": 1641653108386,
     "user": {
      "displayName": "Sandesh Verma",
      "photoUrl": "https://lh3.googleusercontent.com/a/default-user=s64",
      "userId": "00363300747975141974"
     },
     "user_tz": -330
    },
    "id": "CcxkYOtTJixD",
    "outputId": "ab56d55c-53cf-4d88-8163-ef854de15443"
   },
   "outputs": [
    {
     "data": {
      "text/plain": [
       "(20800, 5)"
      ]
     },
     "execution_count": 16,
     "metadata": {},
     "output_type": "execute_result"
    }
   ],
   "source": [
    "df.shape"
   ]
  },
  {
   "cell_type": "code",
   "execution_count": 17,
   "metadata": {
    "colab": {
     "base_uri": "https://localhost:8080/",
     "height": 250
    },
    "executionInfo": {
     "elapsed": 698,
     "status": "ok",
     "timestamp": 1641653231966,
     "user": {
      "displayName": "Sandesh Verma",
      "photoUrl": "https://lh3.googleusercontent.com/a/default-user=s64",
      "userId": "00363300747975141974"
     },
     "user_tz": -330
    },
    "id": "GuKCyfXOJnO_",
    "outputId": "13747974-9800-40a1-b0df-6ae372dcff86"
   },
   "outputs": [
    {
     "data": {
      "text/html": [
       "\n",
       "  <div id=\"df-4e2b8833-5249-422c-9bdc-74a53a2dd540\">\n",
       "    <div class=\"colab-df-container\">\n",
       "      <div>\n",
       "<style scoped>\n",
       "    .dataframe tbody tr th:only-of-type {\n",
       "        vertical-align: middle;\n",
       "    }\n",
       "\n",
       "    .dataframe tbody tr th {\n",
       "        vertical-align: top;\n",
       "    }\n",
       "\n",
       "    .dataframe thead th {\n",
       "        text-align: right;\n",
       "    }\n",
       "</style>\n",
       "<table border=\"1\" class=\"dataframe\">\n",
       "  <thead>\n",
       "    <tr style=\"text-align: right;\">\n",
       "      <th></th>\n",
       "      <th>id</th>\n",
       "      <th>title</th>\n",
       "      <th>author</th>\n",
       "      <th>text</th>\n",
       "      <th>label</th>\n",
       "    </tr>\n",
       "  </thead>\n",
       "  <tbody>\n",
       "    <tr>\n",
       "      <th>0</th>\n",
       "      <td>0</td>\n",
       "      <td>House Dem Aide: We Didn’t Even See Comey’s Let...</td>\n",
       "      <td>Darrell Lucus</td>\n",
       "      <td>House Dem Aide: We Didn’t Even See Comey’s Let...</td>\n",
       "      <td>1</td>\n",
       "    </tr>\n",
       "    <tr>\n",
       "      <th>1</th>\n",
       "      <td>1</td>\n",
       "      <td>FLYNN: Hillary Clinton, Big Woman on Campus - ...</td>\n",
       "      <td>Daniel J. Flynn</td>\n",
       "      <td>Ever get the feeling your life circles the rou...</td>\n",
       "      <td>0</td>\n",
       "    </tr>\n",
       "    <tr>\n",
       "      <th>2</th>\n",
       "      <td>2</td>\n",
       "      <td>Why the Truth Might Get You Fired</td>\n",
       "      <td>Consortiumnews.com</td>\n",
       "      <td>Why the Truth Might Get You Fired October 29, ...</td>\n",
       "      <td>1</td>\n",
       "    </tr>\n",
       "    <tr>\n",
       "      <th>3</th>\n",
       "      <td>3</td>\n",
       "      <td>15 Civilians Killed In Single US Airstrike Hav...</td>\n",
       "      <td>Jessica Purkiss</td>\n",
       "      <td>Videos 15 Civilians Killed In Single US Airstr...</td>\n",
       "      <td>1</td>\n",
       "    </tr>\n",
       "    <tr>\n",
       "      <th>4</th>\n",
       "      <td>4</td>\n",
       "      <td>Iranian woman jailed for fictional unpublished...</td>\n",
       "      <td>Howard Portnoy</td>\n",
       "      <td>Print \\nAn Iranian woman has been sentenced to...</td>\n",
       "      <td>1</td>\n",
       "    </tr>\n",
       "  </tbody>\n",
       "</table>\n",
       "</div>\n",
       "      <button class=\"colab-df-convert\" onclick=\"convertToInteractive('df-4e2b8833-5249-422c-9bdc-74a53a2dd540')\"\n",
       "              title=\"Convert this dataframe to an interactive table.\"\n",
       "              style=\"display:none;\">\n",
       "        \n",
       "  <svg xmlns=\"http://www.w3.org/2000/svg\" height=\"24px\"viewBox=\"0 0 24 24\"\n",
       "       width=\"24px\">\n",
       "    <path d=\"M0 0h24v24H0V0z\" fill=\"none\"/>\n",
       "    <path d=\"M18.56 5.44l.94 2.06.94-2.06 2.06-.94-2.06-.94-.94-2.06-.94 2.06-2.06.94zm-11 1L8.5 8.5l.94-2.06 2.06-.94-2.06-.94L8.5 2.5l-.94 2.06-2.06.94zm10 10l.94 2.06.94-2.06 2.06-.94-2.06-.94-.94-2.06-.94 2.06-2.06.94z\"/><path d=\"M17.41 7.96l-1.37-1.37c-.4-.4-.92-.59-1.43-.59-.52 0-1.04.2-1.43.59L10.3 9.45l-7.72 7.72c-.78.78-.78 2.05 0 2.83L4 21.41c.39.39.9.59 1.41.59.51 0 1.02-.2 1.41-.59l7.78-7.78 2.81-2.81c.8-.78.8-2.07 0-2.86zM5.41 20L4 18.59l7.72-7.72 1.47 1.35L5.41 20z\"/>\n",
       "  </svg>\n",
       "      </button>\n",
       "      \n",
       "  <style>\n",
       "    .colab-df-container {\n",
       "      display:flex;\n",
       "      flex-wrap:wrap;\n",
       "      gap: 12px;\n",
       "    }\n",
       "\n",
       "    .colab-df-convert {\n",
       "      background-color: #E8F0FE;\n",
       "      border: none;\n",
       "      border-radius: 50%;\n",
       "      cursor: pointer;\n",
       "      display: none;\n",
       "      fill: #1967D2;\n",
       "      height: 32px;\n",
       "      padding: 0 0 0 0;\n",
       "      width: 32px;\n",
       "    }\n",
       "\n",
       "    .colab-df-convert:hover {\n",
       "      background-color: #E2EBFA;\n",
       "      box-shadow: 0px 1px 2px rgba(60, 64, 67, 0.3), 0px 1px 3px 1px rgba(60, 64, 67, 0.15);\n",
       "      fill: #174EA6;\n",
       "    }\n",
       "\n",
       "    [theme=dark] .colab-df-convert {\n",
       "      background-color: #3B4455;\n",
       "      fill: #D2E3FC;\n",
       "    }\n",
       "\n",
       "    [theme=dark] .colab-df-convert:hover {\n",
       "      background-color: #434B5C;\n",
       "      box-shadow: 0px 1px 3px 1px rgba(0, 0, 0, 0.15);\n",
       "      filter: drop-shadow(0px 1px 2px rgba(0, 0, 0, 0.3));\n",
       "      fill: #FFFFFF;\n",
       "    }\n",
       "  </style>\n",
       "\n",
       "      <script>\n",
       "        const buttonEl =\n",
       "          document.querySelector('#df-4e2b8833-5249-422c-9bdc-74a53a2dd540 button.colab-df-convert');\n",
       "        buttonEl.style.display =\n",
       "          google.colab.kernel.accessAllowed ? 'block' : 'none';\n",
       "\n",
       "        async function convertToInteractive(key) {\n",
       "          const element = document.querySelector('#df-4e2b8833-5249-422c-9bdc-74a53a2dd540');\n",
       "          const dataTable =\n",
       "            await google.colab.kernel.invokeFunction('convertToInteractive',\n",
       "                                                     [key], {});\n",
       "          if (!dataTable) return;\n",
       "\n",
       "          const docLinkHtml = 'Like what you see? Visit the ' +\n",
       "            '<a target=\"_blank\" href=https://colab.research.google.com/notebooks/data_table.ipynb>data table notebook</a>'\n",
       "            + ' to learn more about interactive tables.';\n",
       "          element.innerHTML = '';\n",
       "          dataTable['output_type'] = 'display_data';\n",
       "          await google.colab.output.renderOutput(dataTable, element);\n",
       "          const docLink = document.createElement('div');\n",
       "          docLink.innerHTML = docLinkHtml;\n",
       "          element.appendChild(docLink);\n",
       "        }\n",
       "      </script>\n",
       "    </div>\n",
       "  </div>\n",
       "  "
      ],
      "text/plain": [
       "   id  ... label\n",
       "0   0  ...     1\n",
       "1   1  ...     0\n",
       "2   2  ...     1\n",
       "3   3  ...     1\n",
       "4   4  ...     1\n",
       "\n",
       "[5 rows x 5 columns]"
      ]
     },
     "execution_count": 17,
     "metadata": {},
     "output_type": "execute_result"
    }
   ],
   "source": [
    "df.head()"
   ]
  },
  {
   "cell_type": "markdown",
   "metadata": {
    "id": "f2JIFZmlKaMH"
   },
   "source": [
    "Checking for null values"
   ]
  },
  {
   "cell_type": "code",
   "execution_count": 19,
   "metadata": {
    "colab": {
     "base_uri": "https://localhost:8080/"
    },
    "executionInfo": {
     "elapsed": 675,
     "status": "ok",
     "timestamp": 1641653382783,
     "user": {
      "displayName": "Sandesh Verma",
      "photoUrl": "https://lh3.googleusercontent.com/a/default-user=s64",
      "userId": "00363300747975141974"
     },
     "user_tz": -330
    },
    "id": "vGDl30yrKFny",
    "outputId": "08b8d438-9265-44af-c539-a527498a34d9"
   },
   "outputs": [
    {
     "data": {
      "text/plain": [
       "id           0\n",
       "title      558\n",
       "author    1957\n",
       "text        39\n",
       "label        0\n",
       "dtype: int64"
      ]
     },
     "execution_count": 19,
     "metadata": {},
     "output_type": "execute_result"
    }
   ],
   "source": [
    "df.isnull().sum()"
   ]
  },
  {
   "cell_type": "code",
   "execution_count": 21,
   "metadata": {
    "executionInfo": {
     "elapsed": 998,
     "status": "ok",
     "timestamp": 1641653510990,
     "user": {
      "displayName": "Sandesh Verma",
      "photoUrl": "https://lh3.googleusercontent.com/a/default-user=s64",
      "userId": "00363300747975141974"
     },
     "user_tz": -330
    },
    "id": "buM7cUNJKm3D"
   },
   "outputs": [],
   "source": [
    "# replacing the null values with empty string as we have a large dataset \n",
    "df=df.fillna('')"
   ]
  },
  {
   "cell_type": "markdown",
   "metadata": {
    "id": "-Das9GcYLaH0"
   },
   "source": [
    "Merging the title and the author column for predictions"
   ]
  },
  {
   "cell_type": "code",
   "execution_count": 24,
   "metadata": {
    "executionInfo": {
     "elapsed": 866,
     "status": "ok",
     "timestamp": 1641653862317,
     "user": {
      "displayName": "Sandesh Verma",
      "photoUrl": "https://lh3.googleusercontent.com/a/default-user=s64",
      "userId": "00363300747975141974"
     },
     "user_tz": -330
    },
    "id": "TuCe1gISLA2a"
   },
   "outputs": [],
   "source": [
    "df['newcontent']=df['author']+''+df['title']"
   ]
  },
  {
   "cell_type": "code",
   "execution_count": 25,
   "metadata": {
    "colab": {
     "base_uri": "https://localhost:8080/"
    },
    "executionInfo": {
     "elapsed": 8,
     "status": "ok",
     "timestamp": 1641653862885,
     "user": {
      "displayName": "Sandesh Verma",
      "photoUrl": "https://lh3.googleusercontent.com/a/default-user=s64",
      "userId": "00363300747975141974"
     },
     "user_tz": -330
    },
    "id": "1E2Jps-JMFaB",
    "outputId": "bdbdb045-a98e-453f-b031-0d7c778edb73"
   },
   "outputs": [
    {
     "data": {
      "text/plain": [
       "0        Darrell LucusHouse Dem Aide: We Didn’t Even Se...\n",
       "1        Daniel J. FlynnFLYNN: Hillary Clinton, Big Wom...\n",
       "2        Consortiumnews.comWhy the Truth Might Get You ...\n",
       "3        Jessica Purkiss15 Civilians Killed In Single U...\n",
       "4        Howard PortnoyIranian woman jailed for fiction...\n",
       "                               ...                        \n",
       "20795    Jerome HudsonRapper T.I.: Trump a ’Poster Chil...\n",
       "20796    Benjamin HoffmanN.F.L. Playoffs: Schedule, Mat...\n",
       "20797    Michael J. de la Merced and Rachel AbramsMacy’...\n",
       "20798    Alex AnsaryNATO, Russia To Hold Parallel Exerc...\n",
       "20799               David SwansonWhat Keeps the F-35 Alive\n",
       "Name: newcontent, Length: 20800, dtype: object"
      ]
     },
     "execution_count": 25,
     "metadata": {},
     "output_type": "execute_result"
    }
   ],
   "source": [
    "df['newcontent']"
   ]
  },
  {
   "cell_type": "code",
   "execution_count": 26,
   "metadata": {
    "colab": {
     "base_uri": "https://localhost:8080/",
     "height": 337
    },
    "executionInfo": {
     "elapsed": 903,
     "status": "ok",
     "timestamp": 1641653922461,
     "user": {
      "displayName": "Sandesh Verma",
      "photoUrl": "https://lh3.googleusercontent.com/a/default-user=s64",
      "userId": "00363300747975141974"
     },
     "user_tz": -330
    },
    "id": "X0PlzOoKMMxw",
    "outputId": "0ab971e1-5147-4166-d153-511c4acfbff1"
   },
   "outputs": [
    {
     "data": {
      "text/html": [
       "\n",
       "  <div id=\"df-291c0a26-943a-494e-b317-853f20ec1b59\">\n",
       "    <div class=\"colab-df-container\">\n",
       "      <div>\n",
       "<style scoped>\n",
       "    .dataframe tbody tr th:only-of-type {\n",
       "        vertical-align: middle;\n",
       "    }\n",
       "\n",
       "    .dataframe tbody tr th {\n",
       "        vertical-align: top;\n",
       "    }\n",
       "\n",
       "    .dataframe thead th {\n",
       "        text-align: right;\n",
       "    }\n",
       "</style>\n",
       "<table border=\"1\" class=\"dataframe\">\n",
       "  <thead>\n",
       "    <tr style=\"text-align: right;\">\n",
       "      <th></th>\n",
       "      <th>id</th>\n",
       "      <th>title</th>\n",
       "      <th>author</th>\n",
       "      <th>text</th>\n",
       "      <th>label</th>\n",
       "      <th>newcontent</th>\n",
       "    </tr>\n",
       "  </thead>\n",
       "  <tbody>\n",
       "    <tr>\n",
       "      <th>0</th>\n",
       "      <td>0</td>\n",
       "      <td>House Dem Aide: We Didn’t Even See Comey’s Let...</td>\n",
       "      <td>Darrell Lucus</td>\n",
       "      <td>House Dem Aide: We Didn’t Even See Comey’s Let...</td>\n",
       "      <td>1</td>\n",
       "      <td>Darrell LucusHouse Dem Aide: We Didn’t Even Se...</td>\n",
       "    </tr>\n",
       "    <tr>\n",
       "      <th>1</th>\n",
       "      <td>1</td>\n",
       "      <td>FLYNN: Hillary Clinton, Big Woman on Campus - ...</td>\n",
       "      <td>Daniel J. Flynn</td>\n",
       "      <td>Ever get the feeling your life circles the rou...</td>\n",
       "      <td>0</td>\n",
       "      <td>Daniel J. FlynnFLYNN: Hillary Clinton, Big Wom...</td>\n",
       "    </tr>\n",
       "    <tr>\n",
       "      <th>2</th>\n",
       "      <td>2</td>\n",
       "      <td>Why the Truth Might Get You Fired</td>\n",
       "      <td>Consortiumnews.com</td>\n",
       "      <td>Why the Truth Might Get You Fired October 29, ...</td>\n",
       "      <td>1</td>\n",
       "      <td>Consortiumnews.comWhy the Truth Might Get You ...</td>\n",
       "    </tr>\n",
       "    <tr>\n",
       "      <th>3</th>\n",
       "      <td>3</td>\n",
       "      <td>15 Civilians Killed In Single US Airstrike Hav...</td>\n",
       "      <td>Jessica Purkiss</td>\n",
       "      <td>Videos 15 Civilians Killed In Single US Airstr...</td>\n",
       "      <td>1</td>\n",
       "      <td>Jessica Purkiss15 Civilians Killed In Single U...</td>\n",
       "    </tr>\n",
       "    <tr>\n",
       "      <th>4</th>\n",
       "      <td>4</td>\n",
       "      <td>Iranian woman jailed for fictional unpublished...</td>\n",
       "      <td>Howard Portnoy</td>\n",
       "      <td>Print \\nAn Iranian woman has been sentenced to...</td>\n",
       "      <td>1</td>\n",
       "      <td>Howard PortnoyIranian woman jailed for fiction...</td>\n",
       "    </tr>\n",
       "  </tbody>\n",
       "</table>\n",
       "</div>\n",
       "      <button class=\"colab-df-convert\" onclick=\"convertToInteractive('df-291c0a26-943a-494e-b317-853f20ec1b59')\"\n",
       "              title=\"Convert this dataframe to an interactive table.\"\n",
       "              style=\"display:none;\">\n",
       "        \n",
       "  <svg xmlns=\"http://www.w3.org/2000/svg\" height=\"24px\"viewBox=\"0 0 24 24\"\n",
       "       width=\"24px\">\n",
       "    <path d=\"M0 0h24v24H0V0z\" fill=\"none\"/>\n",
       "    <path d=\"M18.56 5.44l.94 2.06.94-2.06 2.06-.94-2.06-.94-.94-2.06-.94 2.06-2.06.94zm-11 1L8.5 8.5l.94-2.06 2.06-.94-2.06-.94L8.5 2.5l-.94 2.06-2.06.94zm10 10l.94 2.06.94-2.06 2.06-.94-2.06-.94-.94-2.06-.94 2.06-2.06.94z\"/><path d=\"M17.41 7.96l-1.37-1.37c-.4-.4-.92-.59-1.43-.59-.52 0-1.04.2-1.43.59L10.3 9.45l-7.72 7.72c-.78.78-.78 2.05 0 2.83L4 21.41c.39.39.9.59 1.41.59.51 0 1.02-.2 1.41-.59l7.78-7.78 2.81-2.81c.8-.78.8-2.07 0-2.86zM5.41 20L4 18.59l7.72-7.72 1.47 1.35L5.41 20z\"/>\n",
       "  </svg>\n",
       "      </button>\n",
       "      \n",
       "  <style>\n",
       "    .colab-df-container {\n",
       "      display:flex;\n",
       "      flex-wrap:wrap;\n",
       "      gap: 12px;\n",
       "    }\n",
       "\n",
       "    .colab-df-convert {\n",
       "      background-color: #E8F0FE;\n",
       "      border: none;\n",
       "      border-radius: 50%;\n",
       "      cursor: pointer;\n",
       "      display: none;\n",
       "      fill: #1967D2;\n",
       "      height: 32px;\n",
       "      padding: 0 0 0 0;\n",
       "      width: 32px;\n",
       "    }\n",
       "\n",
       "    .colab-df-convert:hover {\n",
       "      background-color: #E2EBFA;\n",
       "      box-shadow: 0px 1px 2px rgba(60, 64, 67, 0.3), 0px 1px 3px 1px rgba(60, 64, 67, 0.15);\n",
       "      fill: #174EA6;\n",
       "    }\n",
       "\n",
       "    [theme=dark] .colab-df-convert {\n",
       "      background-color: #3B4455;\n",
       "      fill: #D2E3FC;\n",
       "    }\n",
       "\n",
       "    [theme=dark] .colab-df-convert:hover {\n",
       "      background-color: #434B5C;\n",
       "      box-shadow: 0px 1px 3px 1px rgba(0, 0, 0, 0.15);\n",
       "      filter: drop-shadow(0px 1px 2px rgba(0, 0, 0, 0.3));\n",
       "      fill: #FFFFFF;\n",
       "    }\n",
       "  </style>\n",
       "\n",
       "      <script>\n",
       "        const buttonEl =\n",
       "          document.querySelector('#df-291c0a26-943a-494e-b317-853f20ec1b59 button.colab-df-convert');\n",
       "        buttonEl.style.display =\n",
       "          google.colab.kernel.accessAllowed ? 'block' : 'none';\n",
       "\n",
       "        async function convertToInteractive(key) {\n",
       "          const element = document.querySelector('#df-291c0a26-943a-494e-b317-853f20ec1b59');\n",
       "          const dataTable =\n",
       "            await google.colab.kernel.invokeFunction('convertToInteractive',\n",
       "                                                     [key], {});\n",
       "          if (!dataTable) return;\n",
       "\n",
       "          const docLinkHtml = 'Like what you see? Visit the ' +\n",
       "            '<a target=\"_blank\" href=https://colab.research.google.com/notebooks/data_table.ipynb>data table notebook</a>'\n",
       "            + ' to learn more about interactive tables.';\n",
       "          element.innerHTML = '';\n",
       "          dataTable['output_type'] = 'display_data';\n",
       "          await google.colab.output.renderOutput(dataTable, element);\n",
       "          const docLink = document.createElement('div');\n",
       "          docLink.innerHTML = docLinkHtml;\n",
       "          element.appendChild(docLink);\n",
       "        }\n",
       "      </script>\n",
       "    </div>\n",
       "  </div>\n",
       "  "
      ],
      "text/plain": [
       "   id  ...                                         newcontent\n",
       "0   0  ...  Darrell LucusHouse Dem Aide: We Didn’t Even Se...\n",
       "1   1  ...  Daniel J. FlynnFLYNN: Hillary Clinton, Big Wom...\n",
       "2   2  ...  Consortiumnews.comWhy the Truth Might Get You ...\n",
       "3   3  ...  Jessica Purkiss15 Civilians Killed In Single U...\n",
       "4   4  ...  Howard PortnoyIranian woman jailed for fiction...\n",
       "\n",
       "[5 rows x 6 columns]"
      ]
     },
     "execution_count": 26,
     "metadata": {},
     "output_type": "execute_result"
    }
   ],
   "source": [
    "df.head()"
   ]
  },
  {
   "cell_type": "markdown",
   "metadata": {
    "id": "9ZA_aU8nNBqI"
   },
   "source": [
    "Separating label/target from the dataset"
   ]
  },
  {
   "cell_type": "code",
   "execution_count": 27,
   "metadata": {
    "executionInfo": {
     "elapsed": 569,
     "status": "ok",
     "timestamp": 1641654139569,
     "user": {
      "displayName": "Sandesh Verma",
      "photoUrl": "https://lh3.googleusercontent.com/a/default-user=s64",
      "userId": "00363300747975141974"
     },
     "user_tz": -330
    },
    "id": "5nHDeR9LMuC7"
   },
   "outputs": [],
   "source": [
    "x=df.drop(columns='label', axis=1)\n",
    "y=df['label']"
   ]
  },
  {
   "cell_type": "code",
   "execution_count": 29,
   "metadata": {
    "colab": {
     "base_uri": "https://localhost:8080/"
    },
    "executionInfo": {
     "elapsed": 617,
     "status": "ok",
     "timestamp": 1641654192887,
     "user": {
      "displayName": "Sandesh Verma",
      "photoUrl": "https://lh3.googleusercontent.com/a/default-user=s64",
      "userId": "00363300747975141974"
     },
     "user_tz": -330
    },
    "id": "e-x5re62NjU8",
    "outputId": "d6756d36-a996-4134-f4e6-3f42cbe4831b"
   },
   "outputs": [
    {
     "name": "stdout",
     "output_type": "stream",
     "text": [
      "          id  ...                                         newcontent\n",
      "0          0  ...  Darrell LucusHouse Dem Aide: We Didn’t Even Se...\n",
      "1          1  ...  Daniel J. FlynnFLYNN: Hillary Clinton, Big Wom...\n",
      "2          2  ...  Consortiumnews.comWhy the Truth Might Get You ...\n",
      "3          3  ...  Jessica Purkiss15 Civilians Killed In Single U...\n",
      "4          4  ...  Howard PortnoyIranian woman jailed for fiction...\n",
      "...      ...  ...                                                ...\n",
      "20795  20795  ...  Jerome HudsonRapper T.I.: Trump a ’Poster Chil...\n",
      "20796  20796  ...  Benjamin HoffmanN.F.L. Playoffs: Schedule, Mat...\n",
      "20797  20797  ...  Michael J. de la Merced and Rachel AbramsMacy’...\n",
      "20798  20798  ...  Alex AnsaryNATO, Russia To Hold Parallel Exerc...\n",
      "20799  20799  ...             David SwansonWhat Keeps the F-35 Alive\n",
      "\n",
      "[20800 rows x 5 columns]\n"
     ]
    }
   ],
   "source": [
    "print (x)\n"
   ]
  },
  {
   "cell_type": "code",
   "execution_count": 30,
   "metadata": {
    "colab": {
     "base_uri": "https://localhost:8080/"
    },
    "executionInfo": {
     "elapsed": 4,
     "status": "ok",
     "timestamp": 1641654198775,
     "user": {
      "displayName": "Sandesh Verma",
      "photoUrl": "https://lh3.googleusercontent.com/a/default-user=s64",
      "userId": "00363300747975141974"
     },
     "user_tz": -330
    },
    "id": "pY6c-clCNrTI",
    "outputId": "2829d7f5-2033-4b2b-fefa-844957c60073"
   },
   "outputs": [
    {
     "name": "stdout",
     "output_type": "stream",
     "text": [
      "0        1\n",
      "1        0\n",
      "2        1\n",
      "3        1\n",
      "4        1\n",
      "        ..\n",
      "20795    0\n",
      "20796    0\n",
      "20797    0\n",
      "20798    1\n",
      "20799    1\n",
      "Name: label, Length: 20800, dtype: int64\n"
     ]
    }
   ],
   "source": [
    "print (y)"
   ]
  },
  {
   "cell_type": "markdown",
   "metadata": {
    "id": "_lzGNTnoN_Xh"
   },
   "source": [
    "**STEMMING**\n",
    "\n",
    "--> reducing words and their plurals to root word\n",
    "\n",
    "with the help of potterstemmer \n",
    "\n",
    "\n"
   ]
  },
  {
   "cell_type": "code",
   "execution_count": 31,
   "metadata": {
    "executionInfo": {
     "elapsed": 990,
     "status": "ok",
     "timestamp": 1641654842201,
     "user": {
      "displayName": "Sandesh Verma",
      "photoUrl": "https://lh3.googleusercontent.com/a/default-user=s64",
      "userId": "00363300747975141974"
     },
     "user_tz": -330
    },
    "id": "nkP5iYwwNx1A"
   },
   "outputs": [],
   "source": [
    "port_stem=PorterStemmer()"
   ]
  },
  {
   "cell_type": "code",
   "execution_count": 32,
   "metadata": {
    "executionInfo": {
     "elapsed": 848,
     "status": "ok",
     "timestamp": 1641656225619,
     "user": {
      "displayName": "Sandesh Verma",
      "photoUrl": "https://lh3.googleusercontent.com/a/default-user=s64",
      "userId": "00363300747975141974"
     },
     "user_tz": -330
    },
    "id": "aqRRc3MFQOxc"
   },
   "outputs": [],
   "source": [
    "def stemming(content):\n",
    "  stemmed_content=re.sub('[^a-zA-Z]',' ',content) # ^--> means remove every thing except a-z and A-z ,' ' with space from content,.sub=substituting \n",
    "  stemmed_content=stemmed_content.lower()\n",
    "  stemmed_content=stemmed_content.split()  # split and convert to a list\n",
    "  stemmed_content=[port_stem.stem(word) for word in stemmed_content if not word in stopwords.words('english')]\n",
    "  stemmed_content=' '.join(stemmed_content)\n",
    "  return stemmed_content\n",
    "\n"
   ]
  },
  {
   "cell_type": "markdown",
   "metadata": {
    "id": "HYqiW9c-WBcW"
   },
   "source": [
    "Applying stemming function to our newcontent column"
   ]
  },
  {
   "cell_type": "code",
   "execution_count": 33,
   "metadata": {
    "executionInfo": {
     "elapsed": 40113,
     "status": "ok",
     "timestamp": 1641656332511,
     "user": {
      "displayName": "Sandesh Verma",
      "photoUrl": "https://lh3.googleusercontent.com/a/default-user=s64",
      "userId": "00363300747975141974"
     },
     "user_tz": -330
    },
    "id": "eGzRI2UAVghZ"
   },
   "outputs": [],
   "source": [
    "df['newcontent']=df['newcontent'].apply(stemming)"
   ]
  },
  {
   "cell_type": "code",
   "execution_count": 34,
   "metadata": {
    "colab": {
     "base_uri": "https://localhost:8080/"
    },
    "executionInfo": {
     "elapsed": 598,
     "status": "ok",
     "timestamp": 1641656412853,
     "user": {
      "displayName": "Sandesh Verma",
      "photoUrl": "https://lh3.googleusercontent.com/a/default-user=s64",
      "userId": "00363300747975141974"
     },
     "user_tz": -330
    },
    "id": "xmRkLVvUVxD9",
    "outputId": "caa3504f-3616-4484-b4e7-b9010e103ab9"
   },
   "outputs": [
    {
     "name": "stdout",
     "output_type": "stream",
     "text": [
      "0        darrel lucushous dem aid even see comey letter...\n",
      "1        daniel j flynnflynn hillari clinton big woman ...\n",
      "2                consortiumnew comwhi truth might get fire\n",
      "3        jessica purkiss civilian kill singl us airstri...\n",
      "4        howard portnoyiranian woman jail fiction unpub...\n",
      "                               ...                        \n",
      "20795    jerom hudsonrapp trump poster child white supr...\n",
      "20796    benjamin hoffmann f l playoff schedul matchup ...\n",
      "20797    michael j de la merc rachel abramsmaci said re...\n",
      "20798    alex ansarynato russia hold parallel exercis b...\n",
      "20799                        david swansonwhat keep f aliv\n",
      "Name: newcontent, Length: 20800, dtype: object\n"
     ]
    }
   ],
   "source": [
    "print(df['newcontent'])"
   ]
  },
  {
   "cell_type": "markdown",
   "metadata": {
    "id": "78Z1OTt0WiIH"
   },
   "source": [
    "--> we can observe that all the extra symbols other then a-z,A-Z \n",
    "\n",
    "have been removed from the newcontent column of our dataset like , : , 12 ...\n",
    "\n",
    "and conversion to root word is done"
   ]
  },
  {
   "cell_type": "markdown",
   "metadata": {
    "id": "nt1jP3bDXyuy"
   },
   "source": [
    "Defining x and y values \n",
    "\n",
    "x = newcontent\n",
    "\n",
    "y= target labels"
   ]
  },
  {
   "cell_type": "code",
   "execution_count": 35,
   "metadata": {
    "executionInfo": {
     "elapsed": 576,
     "status": "ok",
     "timestamp": 1641659786777,
     "user": {
      "displayName": "Sandesh Verma",
      "photoUrl": "https://lh3.googleusercontent.com/a/default-user=s64",
      "userId": "00363300747975141974"
     },
     "user_tz": -330
    },
    "id": "vUSK_g7WWOUs"
   },
   "outputs": [],
   "source": [
    "   x=df['newcontent'].values\n",
    "   y=df['label'].values"
   ]
  },
  {
   "cell_type": "code",
   "execution_count": 36,
   "metadata": {
    "colab": {
     "base_uri": "https://localhost:8080/"
    },
    "executionInfo": {
     "elapsed": 925,
     "status": "ok",
     "timestamp": 1641659799220,
     "user": {
      "displayName": "Sandesh Verma",
      "photoUrl": "https://lh3.googleusercontent.com/a/default-user=s64",
      "userId": "00363300747975141974"
     },
     "user_tz": -330
    },
    "id": "vpXK8NfmjGBb",
    "outputId": "9532c240-3d29-4b4f-a4c3-dc1aa0a75822"
   },
   "outputs": [
    {
     "name": "stdout",
     "output_type": "stream",
     "text": [
      "['darrel lucushous dem aid even see comey letter jason chaffetz tweet'\n",
      " 'daniel j flynnflynn hillari clinton big woman campu breitbart'\n",
      " 'consortiumnew comwhi truth might get fire' ...\n",
      " 'michael j de la merc rachel abramsmaci said receiv takeov approach hudson bay new york time'\n",
      " 'alex ansarynato russia hold parallel exercis balkan'\n",
      " 'david swansonwhat keep f aliv']\n"
     ]
    }
   ],
   "source": [
    "print(x)"
   ]
  },
  {
   "cell_type": "code",
   "execution_count": 37,
   "metadata": {
    "colab": {
     "base_uri": "https://localhost:8080/"
    },
    "executionInfo": {
     "elapsed": 842,
     "status": "ok",
     "timestamp": 1641659811311,
     "user": {
      "displayName": "Sandesh Verma",
      "photoUrl": "https://lh3.googleusercontent.com/a/default-user=s64",
      "userId": "00363300747975141974"
     },
     "user_tz": -330
    },
    "id": "FWk1d848jIy0",
    "outputId": "7462f6ef-1724-4b53-bba1-a79da35e776a"
   },
   "outputs": [
    {
     "data": {
      "text/plain": [
       "array([1, 0, 1, ..., 0, 1, 1])"
      ]
     },
     "execution_count": 37,
     "metadata": {},
     "output_type": "execute_result"
    }
   ],
   "source": [
    "y"
   ]
  },
  {
   "cell_type": "code",
   "execution_count": 38,
   "metadata": {
    "colab": {
     "base_uri": "https://localhost:8080/"
    },
    "executionInfo": {
     "elapsed": 648,
     "status": "ok",
     "timestamp": 1641659869791,
     "user": {
      "displayName": "Sandesh Verma",
      "photoUrl": "https://lh3.googleusercontent.com/a/default-user=s64",
      "userId": "00363300747975141974"
     },
     "user_tz": -330
    },
    "id": "8yUshr2DjLcM",
    "outputId": "29cea261-703c-484a-a8d4-30eae326653c"
   },
   "outputs": [
    {
     "data": {
      "text/plain": [
       "(20800,)"
      ]
     },
     "execution_count": 38,
     "metadata": {},
     "output_type": "execute_result"
    }
   ],
   "source": [
    "y.shape"
   ]
  },
  {
   "cell_type": "markdown",
   "metadata": {
    "id": "V7PU9Mqej649"
   },
   "source": [
    "**Converting textual content to vectors** "
   ]
  },
  {
   "cell_type": "code",
   "execution_count": 39,
   "metadata": {
    "executionInfo": {
     "elapsed": 589,
     "status": "ok",
     "timestamp": 1641660198433,
     "user": {
      "displayName": "Sandesh Verma",
      "photoUrl": "https://lh3.googleusercontent.com/a/default-user=s64",
      "userId": "00363300747975141974"
     },
     "user_tz": -330
    },
    "id": "GWufzLYIjaRs"
   },
   "outputs": [],
   "source": [
    "vector=TfidfVectorizer()\n",
    "vector.fit(x)\n",
    "x=vector.transform(x)"
   ]
  },
  {
   "cell_type": "code",
   "execution_count": 41,
   "metadata": {
    "colab": {
     "base_uri": "https://localhost:8080/"
    },
    "executionInfo": {
     "elapsed": 650,
     "status": "ok",
     "timestamp": 1641660215309,
     "user": {
      "displayName": "Sandesh Verma",
      "photoUrl": "https://lh3.googleusercontent.com/a/default-user=s64",
      "userId": "00363300747975141974"
     },
     "user_tz": -330
    },
    "id": "oPFUL6yWkqf2",
    "outputId": "469319b8-d05a-42ff-845a-0cc33a7d2ddd"
   },
   "outputs": [
    {
     "name": "stdout",
     "output_type": "stream",
     "text": [
      "  (0, 26340)\t0.28088379401596425\n",
      "  (0, 22724)\t0.2552336018069161\n",
      "  (0, 15019)\t0.43006226759639316\n",
      "  (0, 14555)\t0.29177259684200296\n",
      "  (0, 12782)\t0.24619727512767195\n",
      "  (0, 8022)\t0.23133661742488731\n",
      "  (0, 6273)\t0.2839932825877813\n",
      "  (0, 5969)\t0.35488202138141456\n",
      "  (0, 5006)\t0.2472595823572816\n",
      "  (0, 4211)\t0.3625320323150658\n",
      "  (0, 578)\t0.2694167078545385\n",
      "  (1, 27923)\t0.36911845953845024\n",
      "  (1, 11313)\t0.24166773097712638\n",
      "  (1, 8772)\t0.5258635625386451\n",
      "  (1, 5916)\t0.31810058109638056\n",
      "  (1, 4767)\t0.23338756776626793\n",
      "  (1, 3859)\t0.45980466668763476\n",
      "  (1, 3281)\t0.18652439327549428\n",
      "  (1, 2622)\t0.3562953366945267\n",
      "  (2, 26235)\t0.3665032495181434\n",
      "  (2, 16361)\t0.43295215406038445\n",
      "  (2, 9454)\t0.30743020569262086\n",
      "  (2, 8567)\t0.3411947414020896\n",
      "  (2, 5240)\t0.40440534260277944\n",
      "  (2, 5121)\t0.5511414848555652\n",
      "  :\t:\n",
      "  (20797, 25776)\t0.08220218573989037\n",
      "  (20797, 25319)\t0.3119640221826561\n",
      "  (20797, 22086)\t0.24902354987792552\n",
      "  (20797, 20778)\t0.2729578683228216\n",
      "  (20797, 20493)\t0.249994989010826\n",
      "  (20797, 17505)\t0.08090456115716123\n",
      "  (20797, 16315)\t0.1785200594251359\n",
      "  (20797, 16217)\t0.3273246827604847\n",
      "  (20797, 14104)\t0.22761807337911874\n",
      "  (20797, 11692)\t0.2992170910232368\n",
      "  (20797, 6088)\t0.21253094503918346\n",
      "  (20797, 2257)\t0.3357782642976524\n",
      "  (20797, 1249)\t0.3072223353708335\n",
      "  (20797, 72)\t0.38829670969848273\n",
      "  (20798, 21937)\t0.2284042880065583\n",
      "  (20798, 18760)\t0.43981843518920394\n",
      "  (20798, 11434)\t0.3219420705942853\n",
      "  (20798, 8095)\t0.40266358130888547\n",
      "  (20798, 1921)\t0.43981843518920394\n",
      "  (20798, 1081)\t0.4638903157542853\n",
      "  (20798, 697)\t0.2827933658592677\n",
      "  (20799, 25148)\t0.6713314187498636\n",
      "  (20799, 13329)\t0.4138037375613909\n",
      "  (20799, 6018)\t0.345590335823275\n",
      "  (20799, 732)\t0.5085743925573473\n"
     ]
    }
   ],
   "source": [
    "print(x)"
   ]
  },
  {
   "cell_type": "markdown",
   "metadata": {
    "id": "AwC-9DOuk5qV"
   },
   "source": [
    "**Process of test train splitting**"
   ]
  },
  {
   "cell_type": "code",
   "execution_count": 45,
   "metadata": {
    "executionInfo": {
     "elapsed": 582,
     "status": "ok",
     "timestamp": 1641660983556,
     "user": {
      "displayName": "Sandesh Verma",
      "photoUrl": "https://lh3.googleusercontent.com/a/default-user=s64",
      "userId": "00363300747975141974"
     },
     "user_tz": -330
    },
    "id": "SS4TUlOTkric"
   },
   "outputs": [],
   "source": [
    "x_train , x_test , y_train , y_test =train_test_split(x,y,test_size=0.2, stratify =y,random_state=2)\n",
    "#stratify parameter will preserve the proportion of target as in original dataset, in the train and test datasets as well."
   ]
  },
  {
   "cell_type": "markdown",
   "metadata": {
    "id": "DTF7lAaGnxaP"
   },
   "source": [
    "**Training the logistic regression model**"
   ]
  },
  {
   "cell_type": "code",
   "execution_count": 46,
   "metadata": {
    "executionInfo": {
     "elapsed": 721,
     "status": "ok",
     "timestamp": 1641661258837,
     "user": {
      "displayName": "Sandesh Verma",
      "photoUrl": "https://lh3.googleusercontent.com/a/default-user=s64",
      "userId": "00363300747975141974"
     },
     "user_tz": -330
    },
    "id": "RsU_LnJ0mvTJ"
   },
   "outputs": [],
   "source": [
    "lr=LogisticRegression()  # using sigmoid function if value above a certain threshold than 1 else 0 \n",
    "# for binary classification logistic regression is good"
   ]
  },
  {
   "cell_type": "code",
   "execution_count": 47,
   "metadata": {
    "colab": {
     "base_uri": "https://localhost:8080/"
    },
    "executionInfo": {
     "elapsed": 699,
     "status": "ok",
     "timestamp": 1641661282108,
     "user": {
      "displayName": "Sandesh Verma",
      "photoUrl": "https://lh3.googleusercontent.com/a/default-user=s64",
      "userId": "00363300747975141974"
     },
     "user_tz": -330
    },
    "id": "kOZKwAp-otB8",
    "outputId": "0c558584-8477-4f7f-eea8-e487dcca15da"
   },
   "outputs": [
    {
     "data": {
      "text/plain": [
       "LogisticRegression()"
      ]
     },
     "execution_count": 47,
     "metadata": {},
     "output_type": "execute_result"
    }
   ],
   "source": [
    "lr.fit(x_train,y_train)"
   ]
  },
  {
   "cell_type": "markdown",
   "metadata": {
    "id": "r65ypmEaqdP2"
   },
   "source": [
    "**Evaluating**"
   ]
  },
  {
   "cell_type": "code",
   "execution_count": 48,
   "metadata": {
    "executionInfo": {
     "elapsed": 688,
     "status": "ok",
     "timestamp": 1641661996937,
     "user": {
      "displayName": "Sandesh Verma",
      "photoUrl": "https://lh3.googleusercontent.com/a/default-user=s64",
      "userId": "00363300747975141974"
     },
     "user_tz": -330
    },
    "id": "MTryQ0unozE9"
   },
   "outputs": [],
   "source": [
    "xtrain_prediction=lr.predict(x_train)"
   ]
  },
  {
   "cell_type": "markdown",
   "metadata": {
    "id": "JyjZ60lGrioo"
   },
   "source": [
    "**Calculating Accuracy Score for training data**"
   ]
  },
  {
   "cell_type": "code",
   "execution_count": 49,
   "metadata": {
    "executionInfo": {
     "elapsed": 790,
     "status": "ok",
     "timestamp": 1641662143469,
     "user": {
      "displayName": "Sandesh Verma",
      "photoUrl": "https://lh3.googleusercontent.com/a/default-user=s64",
      "userId": "00363300747975141974"
     },
     "user_tz": -330
    },
    "id": "xwhmBmEurhlu"
   },
   "outputs": [],
   "source": [
    "train_accuracy=accuracy_score(xtrain_prediction,y_train)"
   ]
  },
  {
   "cell_type": "code",
   "execution_count": 50,
   "metadata": {
    "colab": {
     "base_uri": "https://localhost:8080/"
    },
    "executionInfo": {
     "elapsed": 561,
     "status": "ok",
     "timestamp": 1641662199941,
     "user": {
      "displayName": "Sandesh Verma",
      "photoUrl": "https://lh3.googleusercontent.com/a/default-user=s64",
      "userId": "00363300747975141974"
     },
     "user_tz": -330
    },
    "id": "abxIZBOnsFWY",
    "outputId": "d88b3008-48c2-423d-c283-75dbb3428bc6"
   },
   "outputs": [
    {
     "name": "stdout",
     "output_type": "stream",
     "text": [
      "accuracy score on training data is:  0.9719951923076923\n"
     ]
    }
   ],
   "source": [
    "print(\"accuracy score on training data is: \",train_accuracy)"
   ]
  },
  {
   "cell_type": "markdown",
   "metadata": {
    "id": "vMleUZpDsoIJ"
   },
   "source": [
    "**Calculating Accuracy Score for testing data**"
   ]
  },
  {
   "cell_type": "code",
   "execution_count": 51,
   "metadata": {
    "executionInfo": {
     "elapsed": 868,
     "status": "ok",
     "timestamp": 1641662333632,
     "user": {
      "displayName": "Sandesh Verma",
      "photoUrl": "https://lh3.googleusercontent.com/a/default-user=s64",
      "userId": "00363300747975141974"
     },
     "user_tz": -330
    },
    "id": "HMiB5m8asTH8"
   },
   "outputs": [],
   "source": [
    "xtest_prediction=lr.predict(x_test)"
   ]
  },
  {
   "cell_type": "code",
   "execution_count": 52,
   "metadata": {
    "executionInfo": {
     "elapsed": 752,
     "status": "ok",
     "timestamp": 1641662378732,
     "user": {
      "displayName": "Sandesh Verma",
      "photoUrl": "https://lh3.googleusercontent.com/a/default-user=s64",
      "userId": "00363300747975141974"
     },
     "user_tz": -330
    },
    "id": "i3lyWAMxsztn"
   },
   "outputs": [],
   "source": [
    "test_accuracy=accuracy_score(xtest_prediction,y_test)"
   ]
  },
  {
   "cell_type": "code",
   "execution_count": 53,
   "metadata": {
    "colab": {
     "base_uri": "https://localhost:8080/"
    },
    "executionInfo": {
     "elapsed": 708,
     "status": "ok",
     "timestamp": 1641662404696,
     "user": {
      "displayName": "Sandesh Verma",
      "photoUrl": "https://lh3.googleusercontent.com/a/default-user=s64",
      "userId": "00363300747975141974"
     },
     "user_tz": -330
    },
    "id": "pd8porBgs-yu",
    "outputId": "b8ceccd7-625b-4d6b-c381-22a504846fe7"
   },
   "outputs": [
    {
     "name": "stdout",
     "output_type": "stream",
     "text": [
      "accuracy score on test data is:  0.9548076923076924\n"
     ]
    }
   ],
   "source": [
    "print(\"accuracy score on test data is: \",test_accuracy)"
   ]
  },
  {
   "cell_type": "markdown",
   "metadata": {
    "id": "3rZFcN8RuMca"
   },
   "source": [
    "**Checking the readiness of the predictive model**"
   ]
  },
  {
   "cell_type": "code",
   "execution_count": 78,
   "metadata": {
    "colab": {
     "base_uri": "https://localhost:8080/"
    },
    "executionInfo": {
     "elapsed": 565,
     "status": "ok",
     "timestamp": 1641665162849,
     "user": {
      "displayName": "Sandesh Verma",
      "photoUrl": "https://lh3.googleusercontent.com/a/default-user=s64",
      "userId": "00363300747975141974"
     },
     "user_tz": -330
    },
    "id": "Q84nY5KVtFJM",
    "outputId": "d4561c8d-6f76-43f5-a0bb-bfb666af25c0"
   },
   "outputs": [
    {
     "name": "stdout",
     "output_type": "stream",
     "text": [
      "[1]\n",
      "  fake  alert  !!!!! \n",
      "1\n",
      "correct prediciton\n",
      "[0]\n",
      " the news is real \n",
      "0\n",
      "correct prediciton\n",
      "[1]\n",
      "  fake  alert  !!!!! \n",
      "1\n",
      "correct prediciton\n",
      "[0]\n",
      " the news is real \n",
      "0\n",
      "correct prediciton\n"
     ]
    }
   ],
   "source": [
    "for i in range(4):\n",
    "  xnew=x_test[i]     # if i=0, taking the first row of the test data     \n",
    "  prediction=lr.predict(xnew)\n",
    "  p=print(prediction)\n",
    "\n",
    "  if (prediction[0]==0):\n",
    "    print (\" the news is real \")\n",
    "  else:\n",
    "    print (\"  fake  alert  !!!!! \")\n",
    "\n",
    "\n",
    "\n",
    "  q=print(y_test[i])\n",
    "\n",
    "  if(p==q):\n",
    "    print(\"correct prediciton\")\n",
    "  else:\n",
    "    print(\"incorrect prediction\")\n",
    "\n",
    "\n",
    "\n"
   ]
  },
  {
   "cell_type": "markdown",
   "metadata": {
    "id": "qvn43gL0yvrZ"
   },
   "source": [
    "**Our model is predicting correctly !!!**"
   ]
  },
  {
   "cell_type": "code",
   "execution_count": null,
   "metadata": {
    "id": "Hv72F5hKyrqX"
   },
   "outputs": [],
   "source": []
  }
 ],
 "metadata": {
  "colab": {
   "authorship_tag": "ABX9TyOBfOTnMDpQYYsdULM/qi9B",
   "collapsed_sections": [],
   "name": "Fake news prediction.ipynb",
   "provenance": []
  },
  "kernelspec": {
   "display_name": "Python 3",
   "language": "python",
   "name": "python3"
  },
  "language_info": {
   "codemirror_mode": {
    "name": "ipython",
    "version": 3
   },
   "file_extension": ".py",
   "mimetype": "text/x-python",
   "name": "python",
   "nbconvert_exporter": "python",
   "pygments_lexer": "ipython3",
   "version": "3.8.8"
  }
 },
 "nbformat": 4,
 "nbformat_minor": 1
}
